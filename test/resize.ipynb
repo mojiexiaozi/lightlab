{
 "cells": [
  {
   "cell_type": "code",
   "execution_count": 4,
   "metadata": {},
   "outputs": [
    {
     "name": "stdout",
     "output_type": "stream",
     "text": [
      "1.0\n",
      "672 736\n"
     ]
    }
   ],
   "source": [
    "h, w = 671, 750\n",
    "limit_side_len = 960\n",
    "if max(h, w) > limit_side_len:\n",
    "    if h > w:\n",
    "        ratio = float(limit_side_len) / h\n",
    "    else:\n",
    "        ratio = float(limit_side_len) / w\n",
    "else:\n",
    "    ratio = 1.\n",
    "\n",
    "print(ratio)\n",
    "resize_h = int(h * ratio)\n",
    "resize_w = int(w * ratio)\n",
    "\n",
    "resize_h = max(int(round(resize_h / 32) * 32), 32)\n",
    "resize_w = max(int(round(resize_w / 32) * 32), 32)\n",
    "print(resize_h, resize_w)"
   ]
  }
 ],
 "metadata": {
  "kernelspec": {
   "display_name": "yolo",
   "language": "python",
   "name": "python3"
  },
  "language_info": {
   "codemirror_mode": {
    "name": "ipython",
    "version": 3
   },
   "file_extension": ".py",
   "mimetype": "text/x-python",
   "name": "python",
   "nbconvert_exporter": "python",
   "pygments_lexer": "ipython3",
   "version": "3.8.19"
  }
 },
 "nbformat": 4,
 "nbformat_minor": 2
}
